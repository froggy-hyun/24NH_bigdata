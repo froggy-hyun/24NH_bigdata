{
 "cells": [
  {
   "cell_type": "markdown",
   "metadata": {},
   "source": [
    "# 2024 NH 투자증권 빅데이터 경진대회"
   ]
  },
  {
   "cell_type": "markdown",
   "metadata": {},
   "source": [
    "#### 최성현"
   ]
  },
  {
   "cell_type": "markdown",
   "metadata": {},
   "source": [
    "## 1. 데이터 불러오기"
   ]
  },
  {
   "cell_type": "markdown",
   "metadata": {},
   "source": [
    "### 필수 라이브러리"
   ]
  },
  {
   "cell_type": "code",
   "execution_count": 6,
   "metadata": {},
   "outputs": [],
   "source": [
    "import os\n",
    "from pprint import pprint\n",
    "\n",
    "import numpy as np\n",
    "import pandas as pd"
   ]
  },
  {
   "cell_type": "markdown",
   "metadata": {},
   "source": [
    "### 데이터 읽어오기"
   ]
  },
  {
   "cell_type": "code",
   "execution_count": 7,
   "metadata": {},
   "outputs": [],
   "source": [
    "ROOT_DIR = \"data_sunghyun\"\n",
    "RANDOM_STATE = 110\n",
    "\n",
    "# Load data\n",
    "cus_tp_ifo = pd.read_csv(os.path.join(ROOT_DIR, \"NH_CONTEST_NHDATA_CUS_TP_IFO.csv\"))\n",
    "ifw_ofw_ifo = pd.read_csv(os.path.join(ROOT_DIR, \"NH_CONTEST_NHDATA_IFW_OFW_IFO.csv\"))\n",
    "stk_dd_ifo = pd.read_csv(os.path.join(ROOT_DIR, \"NH_CONTEST_NHDATA_STK_DD_IFO.csv\"))"
   ]
  },
  {
   "cell_type": "code",
   "execution_count": 8,
   "metadata": {},
   "outputs": [
    {
     "name": "stdout",
     "output_type": "stream",
     "text": [
      "[NH_CONTEST_NHDATA_CUS_TP_IFO.csv 기본 데이터 정보 확인]\n",
      "<class 'pandas.core.frame.DataFrame'>\n",
      "RangeIndex: 1195000 entries, 0 to 1194999\n",
      "Data columns (total 6 columns):\n",
      " #   Column              Non-Null Count    Dtype  \n",
      "---  ------              --------------    -----  \n",
      " 0   bse_dt              1195000 non-null  int64  \n",
      " 1   tck_iem_cd          1195000 non-null  object \n",
      " 2   cus_cgr_llf_cd      1195000 non-null  int64  \n",
      " 3   cus_cgr_mlf_cd      1195000 non-null  int64  \n",
      " 4   cus_cgr_act_cnt_rt  1195000 non-null  float64\n",
      " 5   cus_cgr_ivs_rt      1195000 non-null  float64\n",
      "dtypes: float64(2), int64(3), object(1)\n",
      "memory usage: 54.7+ MB\n",
      "\n",
      "\n"
     ]
    }
   ],
   "source": [
    "# NH_CONTEST_NHDATA_CUS_TP_IFO.csv 기본 데이터 정보 확인\n",
    "print(\"[NH_CONTEST_NHDATA_CUS_TP_IFO.csv 기본 데이터 정보 확인]\")\n",
    "cus_tp_ifo.info(verbose=True, show_counts=True)\n",
    "print(\"\\n\")"
   ]
  },
  {
   "cell_type": "code",
   "execution_count": 9,
   "metadata": {},
   "outputs": [
    {
     "name": "stdout",
     "output_type": "stream",
     "text": [
      "[NH_CONTEST_NHDATA_IFW_OFW_IFO.csv 기본 데이터 정보 확인]\n",
      "<class 'pandas.core.frame.DataFrame'>\n",
      "RangeIndex: 73656 entries, 0 to 73655\n",
      "Data columns (total 6 columns):\n",
      " #   Column              Non-Null Count  Dtype  \n",
      "---  ------              --------------  -----  \n",
      " 0   bse_dt              73656 non-null  int64  \n",
      " 1   tck_iem_cd          73656 non-null  object \n",
      " 2   ifw_ofw_dit_cd      73656 non-null  int64  \n",
      " 3   ifw_ofw_tck_cd      73656 non-null  object \n",
      " 4   ifw_ofw_amt_wht_rt  73656 non-null  float64\n",
      " 5   ifw_ofw_rnk         73656 non-null  int64  \n",
      "dtypes: float64(1), int64(3), object(2)\n",
      "memory usage: 3.4+ MB\n",
      "\n",
      "\n"
     ]
    }
   ],
   "source": [
    "# NH_CONTEST_NHDATA_IFW_OFW_IFO.csv 기본 데이터 정보 확인\n",
    "print(\"[NH_CONTEST_NHDATA_IFW_OFW_IFO.csv 기본 데이터 정보 확인]\")\n",
    "ifw_ofw_ifo.info(verbose=True, show_counts=True)\n",
    "print(\"\\n\")"
   ]
  },
  {
   "cell_type": "code",
   "execution_count": 10,
   "metadata": {},
   "outputs": [
    {
     "name": "stdout",
     "output_type": "stream",
     "text": [
      "[NH_CONTEST_NHDATA_STK_DD_IFO.csv 기본 데이터 정보 확인]\n",
      "<class 'pandas.core.frame.DataFrame'>\n",
      "RangeIndex: 81638 entries, 0 to 81637\n",
      "Data columns (total 22 columns):\n",
      " #   Column                 Non-Null Count  Dtype  \n",
      "---  ------                 --------------  -----  \n",
      " 0   bse_dt                 81638 non-null  int64  \n",
      " 1   tck_iem_cd             81638 non-null  object \n",
      " 2   tot_hld_act_cnt        81638 non-null  int64  \n",
      " 3   tot_hld_qty            81638 non-null  int64  \n",
      " 4   tco_avg_hld_qty        81638 non-null  float64\n",
      " 5   tco_avg_hld_wht_rt     81638 non-null  float64\n",
      " 6   tco_avg_eal_pls        81638 non-null  float64\n",
      " 7   tco_avg_phs_uit_pr     81638 non-null  float64\n",
      " 8   tco_avg_pft_rt         81638 non-null  float64\n",
      " 9   tco_avg_hld_te_dd_cnt  81638 non-null  float64\n",
      " 10  dist_hnk_pct10_nmv     81638 non-null  float64\n",
      " 11  dist_hnk_pct30_nmv     81638 non-null  float64\n",
      " 12  dist_hnk_pct50_nmv     81638 non-null  float64\n",
      " 13  dist_hnk_pct70_nmv     81638 non-null  float64\n",
      " 14  dist_hnk_pct90_nmv     81638 non-null  float64\n",
      " 15  bse_end_pr             81638 non-null  float64\n",
      " 16  lss_ivo_rt             81638 non-null  float64\n",
      " 17  pft_ivo_rt             81638 non-null  float64\n",
      " 18  ifw_act_cnt            81638 non-null  int64  \n",
      " 19  ofw_act_cnt            81638 non-null  int64  \n",
      " 20  vw_tgt_cnt             81638 non-null  int64  \n",
      " 21  rgs_tgt_cnt            81638 non-null  int64  \n",
      "dtypes: float64(14), int64(7), object(1)\n",
      "memory usage: 13.7+ MB\n",
      "\n",
      "\n"
     ]
    }
   ],
   "source": [
    "# NH_CONTEST_NHDATA_STK_DD_IFO.csv 기본 데이터 정보 확인\n",
    "print(\"[NH_CONTEST_NHDATA_STK_DD_IFO.csv 기본 데이터 정보 확인]\")\n",
    "stk_dd_ifo.info(verbose=True, show_counts=True)\n",
    "print(\"\\n\")"
   ]
  }
 ],
 "metadata": {
  "kernelspec": {
   "display_name": "Python 3",
   "language": "python",
   "name": "python3"
  },
  "language_info": {
   "codemirror_mode": {
    "name": "ipython",
    "version": 3
   },
   "file_extension": ".py",
   "mimetype": "text/x-python",
   "name": "python",
   "nbconvert_exporter": "python",
   "pygments_lexer": "ipython3",
   "version": "3.9.2"
  }
 },
 "nbformat": 4,
 "nbformat_minor": 2
}
