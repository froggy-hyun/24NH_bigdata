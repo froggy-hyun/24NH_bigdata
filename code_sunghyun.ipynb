{
 "cells": [
  {
   "cell_type": "markdown",
   "metadata": {},
   "source": [
    "# 2024 NH 투자증권 빅데이터 경진대회"
   ]
  },
  {
   "cell_type": "markdown",
   "metadata": {},
   "source": [
    "#### 최성현"
   ]
  },
  {
   "cell_type": "markdown",
   "metadata": {},
   "source": [
    "## 1. 데이터 불러오기"
   ]
  },
  {
   "cell_type": "markdown",
   "metadata": {},
   "source": [
    "### 필수 라이브러리"
   ]
  },
  {
   "cell_type": "code",
   "execution_count": 1,
   "metadata": {},
   "outputs": [],
   "source": [
    "import os\n",
    "from pprint import pprint\n",
    "\n",
    "import numpy as np\n",
    "import pandas as pd"
   ]
  },
  {
   "cell_type": "markdown",
   "metadata": {},
   "source": [
    "### 데이터 읽어오기"
   ]
  },
  {
   "cell_type": "code",
   "execution_count": 2,
   "metadata": {},
   "outputs": [],
   "source": [
    "ROOT_DIR = \"data_sunghyun\"\n",
    "RANDOM_STATE = 110\n",
    "\n",
    "# Load data\n",
    "cus_tp_ifo = pd.read_csv(os.path.join(ROOT_DIR, \"NH_CONTEST_NHDATA_CUS_TP_IFO.csv\"))\n",
    "ifw_ofw_ifo = pd.read_csv(os.path.join(ROOT_DIR, \"NH_CONTEST_NHDATA_IFW_OFW_IFO.csv\"))\n",
    "stk_dd_ifo = pd.read_csv(os.path.join(ROOT_DIR, \"NH_CONTEST_NHDATA_STK_DD_IFO.csv\"))"
   ]
  },
  {
   "cell_type": "code",
   "execution_count": null,
   "metadata": {},
   "outputs": [],
   "source": [
    "# NH_CONTEST_NHDATA_CUS_TP_IFO.csv 기본 데이터 정보 확인\n",
    "print(\"[기본 데이터 정보 확인]\")\n",
    "cus_tp_ifo.info(verbose=True, show_counts=True)\n",
    "print(\"\\n\")"
   ]
  },
  {
   "cell_type": "code",
   "execution_count": null,
   "metadata": {},
   "outputs": [],
   "source": [
    "# NH_CONTEST_NHDATA_IFW_OFW_IFO.csv 기본 데이터 정보 확인\n",
    "print(\"[기본 데이터 정보 확인]\")\n",
    "ifw_ofw_ifo.info(verbose=True, show_counts=True)\n",
    "print(\"\\n\")"
   ]
  },
  {
   "cell_type": "code",
   "execution_count": null,
   "metadata": {},
   "outputs": [],
   "source": [
    "# NH_CONTEST_NHDATA_STK_DD_IFO.csv 기본 데이터 정보 확인\n",
    "print(\"[기본 데이터 정보 확인]\")\n",
    "stk_dd_ifo.info(verbose=True, show_counts=True)\n",
    "print(\"\\n\")"
   ]
  }
 ],
 "metadata": {
  "kernelspec": {
   "display_name": "Python 3",
   "language": "python",
   "name": "python3"
  },
  "language_info": {
   "codemirror_mode": {
    "name": "ipython",
    "version": 3
   },
   "file_extension": ".py",
   "mimetype": "text/x-python",
   "name": "python",
   "nbconvert_exporter": "python",
   "pygments_lexer": "ipython3",
   "version": "3.9.2"
  }
 },
 "nbformat": 4,
 "nbformat_minor": 2
}
