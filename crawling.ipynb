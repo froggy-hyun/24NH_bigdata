{
 "cells": [
  {
   "cell_type": "markdown",
   "metadata": {},
   "source": [
    "### yahoofinance 크롤링"
   ]
  },
  {
   "cell_type": "code",
   "execution_count": 38,
   "metadata": {},
   "outputs": [],
   "source": [
    "from selenium import webdriver\n",
    "from selenium.webdriver.common.by import By\n",
    "from selenium.webdriver.edge.service import Service as EdgeService\n",
    "from webdriver_manager.microsoft import EdgeChromiumDriverManager\n",
    "import time"
   ]
  },
  {
   "cell_type": "code",
   "execution_count": 40,
   "metadata": {},
   "outputs": [
    {
     "name": "stdout",
     "output_type": "stream",
     "text": [
      "Ticker: SOXL - 뉴스 제목들:\n",
      "- Investors Bought Up IWM, RSP Last Week\n",
      "- Direxion META Single-Stock ETFs Wrap Mag-7 Lineup\n",
      "- ETFs Pulled in $87B in May, Almost Triple April's Total\n",
      "- ETF Spotlight: SOXL Seesaws as Nvidia Sags\n",
      "- What the Kentucky Derby and ETFs Have in Common\n",
      "- SOXL Sees 10% AUM Gain; ETF Weekly Flows\n",
      "Ticker: VOO - 뉴스 제목들:\n",
      "- Why Gen Z bets big while boomers play it safe: A generational breakdown of market returns\n",
      "- ETFs Set Quarterly Inflows Record $280B in Q3\n",
      "- Here's how AI is set to disrupt healthcare — albeit slowly\n",
      "- Equal Weight ETFs Record Over $2B in September Inflows\n",
      "- U.S. ETFs Hit $10T in Assets on Market Gains, Inflows\n",
      "- Fed Rate Cut Signals Inflation Is Licked\n",
      "- Major ETFs Climb After Fed Slashes Interest Rate\n",
      "- U.S. ETF Industry Assets Climb to Record $9.7T in August\n",
      "- VOO, IVV Gain Ground on SPY in S 500 ETF Race\n",
      "- What investors are getting wrong about the VIX right now\n",
      "- VOO, TLT Push August ETF Inflows to $71B\n",
      "- Why investors turn to ETFs during times of market stress\n",
      "- Why gold is outperforming nearly everything so far this year\n",
      "- Morgan Stanley to Close 6 Remaining ETFs on FundLogic Platform\n",
      "- Why millennials and Gen Z are too young to be loading up on bonds\n",
      "- European ETF Trading Hits $1.5T in First Half of 2024\n",
      "- Vanguard CEO Ramji: 'Criticism Will Make Us Better'\n",
      "- Stock market bears may have the calendar on their side until the election\n",
      "- Global ETP Inflows Hit Record $195.4B in July: BlackRock\n",
      "- Stock ETF Volatility: Buy the Dip vs Sell the Rip\n",
      "Ticker: SPY - 뉴스 제목들:\n",
      "- US jobs report crushes expectations as economy adds 254,000 jobs, unemployment rate falls to 4.1%\n",
      "- Exchange-Traded Funds, Equity Futures Higher Pre-Bell Friday Ahead of Key Employment Data\n",
      "- Why Gen Z bets big while boomers play it safe: A generational breakdown of market returns\n",
      "- Exchange-Traded Funds, Equity Futures Lower Pre-Bell Thursday Amid Looming Jobs Data\n",
      "- etf.com Launches New Subscription Plans for All Users\n",
      "- Exchange-Traded Funds, Equity Futures Lower Pre-Bell Wednesday as Investors Exercise Caution Amid Mid-East Tensions\n",
      "- China and Middle East tensions push commodities into the spotlight: Morning Brief\n",
      "- ETFs Set Quarterly Inflows Record $280B in Q3\n",
      "- Here's how AI is set to disrupt healthcare — albeit slowly\n",
      "- The S&P 500 is too tech-heavy. This alternative ETF keeps beating it.\n",
      "- Investing.com Poll: What will be the outcome of Friday's US jobs report?\n",
      "- S&P 500 Logs Best Quarter Since Q4 2021: 5 Top Stocks in ETF\n",
      "- Exchange-Traded Funds, Equity Futures Lower Pre-Bell Tuesday Amid Rising Middle East Tensions\n",
      "- Exchange-Traded Funds, Equity Futures Lower Pre-Bell Monday Ahead of Powell's Speech on Economic Outlook\n",
      "- Equal Weight ETFs Record Over $2B in September Inflows\n",
      "- A critical labor report meets a stock market at record highs: What to know this week\n",
      "- Fed rate cuts increase odds of 90s-style stock market meltup, Yardeni says\n",
      "- U.S. ETFs Hit $10T in Assets on Market Gains, Inflows\n",
      "- 4 ETFs Yielding 7% or More & Outperforming S&P 500\n",
      "- Exchange-Traded Funds, Equity Futures Lower Pre-Bell Friday Ahead of Key Inflation Data\n"
     ]
    }
   ],
   "source": [
    "# 티커 배열\n",
    "tickers = ['SOXL', 'VOO', 'SPY']  # 예시로 몇 가지 티커 추가\n",
    "\n",
    "# Edge 옵션 설정 (헤드리스 모드: 브라우저 창을 띄우지 않음)\n",
    "edge_options = webdriver.EdgeOptions()\n",
    "edge_options.add_argument(\"--headless\")  # 브라우저 창을 띄우지 않음\n",
    "edge_options.add_argument(\"--no-sandbox\")\n",
    "edge_options.add_argument(\"--disable-dev-shm-usage\")\n",
    "\n",
    "# Edge 웹드라이버 설정\n",
    "driver = webdriver.Edge(service=EdgeService(EdgeChromiumDriverManager().install()), options=edge_options)\n",
    "\n",
    "# 뉴스 크롤링 함수\n",
    "def crawl_news_for_ticker(ticker):\n",
    "    url = f\"https://finance.yahoo.com/quote/{ticker}/news/\"\n",
    "    driver.get(url)\n",
    "    time.sleep(3)  # 페이지 로딩 대기\n",
    "    \n",
    "    # 뉴스 제목 추출\n",
    "    try:\n",
    "        news_items = driver.find_elements(By.XPATH, '//h3[@class=\"clamp  yf-1sxfjua\"]')  # 뉴스 제목이 들어있는 h3 태그\n",
    "        print(f\"Ticker: {ticker} - 뉴스 제목들:\")\n",
    "        for news in news_items:\n",
    "            title = news.text\n",
    "            print(f\"- {title}\")\n",
    "    except Exception as e:\n",
    "        print(f\"Error retrieving news for {ticker}: {str(e)}\")\n",
    "\n",
    "# 각 티커에 대해 뉴스 제목 크롤링\n",
    "for ticker in tickers:\n",
    "    crawl_news_for_ticker(ticker)\n",
    "\n",
    "# 브라우저 종료\n",
    "driver.quit()\n"
   ]
  }
 ],
 "metadata": {
  "kernelspec": {
   "display_name": "Python 3",
   "language": "python",
   "name": "python3"
  },
  "language_info": {
   "codemirror_mode": {
    "name": "ipython",
    "version": 3
   },
   "file_extension": ".py",
   "mimetype": "text/x-python",
   "name": "python",
   "nbconvert_exporter": "python",
   "pygments_lexer": "ipython3",
   "version": "3.9.2"
  }
 },
 "nbformat": 4,
 "nbformat_minor": 2
}
